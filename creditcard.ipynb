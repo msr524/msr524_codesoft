{
  "nbformat": 4,
  "nbformat_minor": 0,
  "metadata": {
    "colab": {
      "provenance": [],
      "authorship_tag": "ABX9TyPdzX8Tgh7AFSreQlnbHuE3",
      "include_colab_link": true
    },
    "kernelspec": {
      "name": "python3",
      "display_name": "Python 3"
    },
    "language_info": {
      "name": "python"
    }
  },
  "cells": [
    {
      "cell_type": "markdown",
      "metadata": {
        "id": "view-in-github",
        "colab_type": "text"
      },
      "source": [
        "<a href=\"https://colab.research.google.com/github/msr524/msr524_codesoft/blob/main/creditcard.ipynb\" target=\"_parent\"><img src=\"https://colab.research.google.com/assets/colab-badge.svg\" alt=\"Open In Colab\"/></a>"
      ]
    },
    {
      "cell_type": "code",
      "execution_count": 1,
      "metadata": {
        "id": "1OSu8Hgck-M7",
        "colab": {
          "base_uri": "https://localhost:8080/"
        },
        "outputId": "0c714403-cbce-408d-fcf8-0a9a2772a574"
      },
      "outputs": [
        {
          "output_type": "stream",
          "name": "stdout",
          "text": [
            "Class imbalance detected. Using undersampling.\n",
            "Classification Report:\n",
            "              precision    recall  f1-score   support\n",
            "\n",
            "         0.0       0.84      0.97      0.90        37\n",
            "         1.0       0.97      0.81      0.88        37\n",
            "\n",
            "    accuracy                           0.89        74\n",
            "   macro avg       0.90      0.89      0.89        74\n",
            "weighted avg       0.90      0.89      0.89        74\n",
            "\n",
            "Confusion Matrix:\n",
            "[[36  1]\n",
            " [ 7 30]]\n",
            "Accuracy: 0.8918918918918919\n"
          ]
        }
      ],
      "source": [
        "# Import necessary libraries\n",
        "import pandas as pd\n",
        "import numpy as np\n",
        "from sklearn.model_selection import train_test_split\n",
        "from sklearn.preprocessing import StandardScaler\n",
        "from imblearn.over_sampling import SMOTE\n",
        "from imblearn.under_sampling import RandomUnderSampler\n",
        "from sklearn.linear_model import LogisticRegression\n",
        "from sklearn.metrics import classification_report, confusion_matrix, accuracy_score\n",
        "\n",
        "# Load the dataset\n",
        "data = pd.read_csv('/content/creditcard.csv')\n",
        "\n",
        "# Drop rows with NaN values in the target variable 'Class'\n",
        "data.dropna(subset=['Class'], inplace=True)\n",
        "\n",
        "# Perform data preprocessing\n",
        "# Assuming 'Amount' and 'Time' are numerical features to be normalized\n",
        "scaler = StandardScaler()\n",
        "data[['Amount', 'Time']] = scaler.fit_transform(data[['Amount', 'Time']])\n",
        "\n",
        "# Split the dataset into features (X) and target variable (y)\n",
        "X = data.drop('Class', axis=1)\n",
        "y = data['Class']\n",
        "# Determine if oversampling or undersampling is required\n",
        "class_counts = y.value_counts()\n",
        "if class_counts[0] > class_counts[1]:\n",
        "    print(\"Class imbalance detected. Using undersampling.\")\n",
        "    sampler = RandomUnderSampler(random_state=42)\n",
        "else:\n",
        "    print(\"Class imbalance detected. Using oversampling.\")\n",
        "    sampler = SMOTE(random_state=42)\n",
        "\n",
        "# Resample the dataset to handle class imbalance\n",
        "X_resampled, y_resampled = sampler.fit_resample(X, y)\n",
        "\n",
        "# Split the resampled dataset into training and testing sets\n",
        "X_train, X_test, y_train, y_test = train_test_split(X_resampled, y_resampled, test_size=0.2, random_state=42)\n",
        "\n",
        "# Train a logistic regression model\n",
        "model = LogisticRegression(max_iter=1000)\n",
        "model.fit(X_train, y_train)\n",
        "\n",
        "# Make predictions\n",
        "y_pred = model.predict(X_test)\n",
        "# Evaluate the model\n",
        "print(\"Classification Report:\")\n",
        "print(classification_report(y_test, y_pred))\n",
        "print(\"Confusion Matrix:\")\n",
        "print(confusion_matrix(y_test, y_pred))\n",
        "\n",
        "# Calculate and print accuracy\n",
        "accuracy = accuracy_score(y_test, y_pred)\n",
        "print(\"Accuracy:\", accuracy)"
      ]
    }
  ]
}