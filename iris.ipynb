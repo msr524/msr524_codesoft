{
  "nbformat": 4,
  "nbformat_minor": 0,
  "metadata": {
    "colab": {
      "provenance": [],
      "toc_visible": true,
      "authorship_tag": "ABX9TyO7cKK9ZdD4MZiaRFbv+VL6",
      "include_colab_link": true
    },
    "kernelspec": {
      "name": "python3",
      "display_name": "Python 3"
    },
    "language_info": {
      "name": "python"
    }
  },
  "cells": [
    {
      "cell_type": "markdown",
      "metadata": {
        "id": "view-in-github",
        "colab_type": "text"
      },
      "source": [
        "<a href=\"https://colab.research.google.com/github/msr524/msr524_codesoft/blob/main/iris.ipynb\" target=\"_parent\"><img src=\"https://colab.research.google.com/assets/colab-badge.svg\" alt=\"Open In Colab\"/></a>"
      ]
    },
    {
      "cell_type": "code",
      "execution_count": null,
      "metadata": {
        "id": "3xD-IhjLGACm",
        "colab": {
          "base_uri": "https://localhost:8080/"
        },
        "outputId": "f14b13ff-fd72-45e7-e40f-72fe6a39f00d"
      },
      "outputs": [
        {
          "output_type": "stream",
          "name": "stdout",
          "text": [
            "Columns in the dataset: Index(['sepal_length', 'sepal_width', 'petal_length', 'petal_width',\n",
            "       'species'],\n",
            "      dtype='object')\n",
            "Is it a classification task? True\n",
            "Measurement type: petal\n",
            "Accuracy: 1.0\n",
            "Flower 1 - Predicted variety: Iris-versicolor, Actual variety: Iris-versicolor\n",
            "Flower 2 - Predicted variety: Iris-setosa, Actual variety: Iris-setosa\n",
            "Flower 3 - Predicted variety: Iris-virginica, Actual variety: Iris-virginica\n",
            "Flower 4 - Predicted variety: Iris-versicolor, Actual variety: Iris-versicolor\n",
            "Flower 5 - Predicted variety: Iris-versicolor, Actual variety: Iris-versicolor\n",
            "Flower 6 - Predicted variety: Iris-setosa, Actual variety: Iris-setosa\n",
            "Flower 7 - Predicted variety: Iris-versicolor, Actual variety: Iris-versicolor\n",
            "Flower 8 - Predicted variety: Iris-virginica, Actual variety: Iris-virginica\n",
            "Flower 9 - Predicted variety: Iris-versicolor, Actual variety: Iris-versicolor\n",
            "Flower 10 - Predicted variety: Iris-versicolor, Actual variety: Iris-versicolor\n",
            "Flower 11 - Predicted variety: Iris-virginica, Actual variety: Iris-virginica\n",
            "Flower 12 - Predicted variety: Iris-setosa, Actual variety: Iris-setosa\n",
            "Flower 13 - Predicted variety: Iris-setosa, Actual variety: Iris-setosa\n",
            "Flower 14 - Predicted variety: Iris-setosa, Actual variety: Iris-setosa\n",
            "Flower 15 - Predicted variety: Iris-setosa, Actual variety: Iris-setosa\n",
            "Flower 16 - Predicted variety: Iris-versicolor, Actual variety: Iris-versicolor\n",
            "Flower 17 - Predicted variety: Iris-virginica, Actual variety: Iris-virginica\n",
            "Flower 18 - Predicted variety: Iris-versicolor, Actual variety: Iris-versicolor\n",
            "Flower 19 - Predicted variety: Iris-versicolor, Actual variety: Iris-versicolor\n",
            "Flower 20 - Predicted variety: Iris-virginica, Actual variety: Iris-virginica\n",
            "Flower 21 - Predicted variety: Iris-setosa, Actual variety: Iris-setosa\n",
            "Flower 22 - Predicted variety: Iris-virginica, Actual variety: Iris-virginica\n",
            "Flower 23 - Predicted variety: Iris-setosa, Actual variety: Iris-setosa\n",
            "Flower 24 - Predicted variety: Iris-virginica, Actual variety: Iris-virginica\n",
            "Flower 25 - Predicted variety: Iris-virginica, Actual variety: Iris-virginica\n",
            "Flower 26 - Predicted variety: Iris-virginica, Actual variety: Iris-virginica\n",
            "Flower 27 - Predicted variety: Iris-virginica, Actual variety: Iris-virginica\n",
            "Flower 28 - Predicted variety: Iris-virginica, Actual variety: Iris-virginica\n",
            "Flower 29 - Predicted variety: Iris-setosa, Actual variety: Iris-setosa\n",
            "Flower 30 - Predicted variety: Iris-setosa, Actual variety: Iris-setosa\n"
          ]
        }
      ],
      "source": [
        "import pandas as pd\n",
        "from sklearn.model_selection import train_test_split\n",
        "from sklearn.preprocessing import LabelEncoder\n",
        "from sklearn.ensemble import RandomForestClassifier\n",
        "from sklearn.metrics import accuracy_score\n",
        "\n",
        "# Load the Iris dataset from the CSV file\n",
        "file_path = '/content/Iris.csv'\n",
        "iris_data = pd.read_csv(file_path)\n",
        "\n",
        "# Print column names to check for 'species'\n",
        "print(\"Columns in the dataset:\", iris_data.columns)\n",
        "\n",
        "# Ensure 'species' column exists\n",
        "if 'species' not in iris_data.columns:\n",
        "    raise KeyError(\"The column 'species' is not found in the dataset.\")\n",
        "\n",
        "# Check if it's a classification task and whether it's based on petal or sepal measurements\n",
        "is_classification = len(iris_data['species'].unique()) > 2\n",
        "measurement_type = 'petal' if 'petal_length' in iris_data.columns else 'sepal'\n",
        "\n",
        "print(\"Is it a classification task?\", is_classification)\n",
        "print(\"Measurement type:\", measurement_type)\n",
        "\n",
        "# Separate features and target variable\n",
        "X = iris_data.drop('species', axis=1)\n",
        "y = iris_data['species']\n",
        "\n",
        "# Encode the target variable\n",
        "label_encoder = LabelEncoder()\n",
        "y = label_encoder.fit_transform(y)\n",
        "\n",
        "# Split the dataset into training and testing sets\n",
        "X_train, X_test, y_train, y_test = train_test_split(X, y, test_size=0.2, random_state=42)\n",
        "\n",
        "# Train a Random Forest classifier\n",
        "model = RandomForestClassifier(random_state=42)\n",
        "model.fit(X_train, y_train)\n",
        "\n",
        "# Make predictions\n",
        "y_pred = model.predict(X_test)\n",
        "\n",
        "# Calculate and print accuracy\n",
        "accuracy = accuracy_score(y_test, y_pred)\n",
        "print(\"Accuracy:\", accuracy)\n",
        "\n",
        "# Map predictions back to original species names for printing\n",
        "predicted_species = label_encoder.inverse_transform(y_pred)\n",
        "actual_species = label_encoder.inverse_transform(y_test)\n",
        "\n",
        "# Print the variety based on its measurements\n",
        "for i, (prediction, actual) in enumerate(zip(predicted_species, actual_species)):\n",
        "    print(f\"Flower {i+1} - Predicted variety: {prediction}, Actual variety: {actual}\")\n"
      ]
    }
  ]
}